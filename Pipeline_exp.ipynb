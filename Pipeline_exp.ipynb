{
 "cells": [
  {
   "cell_type": "code",
   "execution_count": 1,
   "metadata": {},
   "outputs": [],
   "source": [
    "# 用户提问：\n",
    "question = '如何登录？'"
   ]
  },
  {
   "cell_type": "code",
   "execution_count": 2,
   "metadata": {},
   "outputs": [
    {
     "name": "stderr",
     "output_type": "stream",
     "text": [
      "No sentence-transformers model found with name ../text2vec/. Creating a new one with MEAN pooling.\n"
     ]
    }
   ],
   "source": [
    "## GPU 0\n",
    "## Lib Load\n",
    "import numpy as np\n",
    "import heapq\n",
    "from sentence_transformers import SentenceTransformer,util\n",
    "\n",
    "m = SentenceTransformer(\"../text2vec/\")\n",
    "\n",
    "## question embedding\n",
    "input_embeddings = m.encode(question)"
   ]
  },
  {
   "cell_type": "code",
   "execution_count": 3,
   "metadata": {},
   "outputs": [],
   "source": [
    "## Lib Embeddings\n",
    "from Doclib.load_Filelist import filelist\n",
    "fl,fnl = filelist()\n",
    "\n",
    "# Embeddings Extraction\n",
    "embed_list = []\n",
    "for _fl in fnl:\n",
    "    _embeddings = m.encode(_fl)\n",
    "    embed_list.append(_embeddings)"
   ]
  },
  {
   "cell_type": "code",
   "execution_count": 4,
   "metadata": {},
   "outputs": [],
   "source": [
    "# Simlarity Calculate\n",
    "cos_list = []\n",
    "for _embeddings in embed_list:\n",
    "    _score = util.pytorch_cos_sim(input_embeddings, _embeddings)\n",
    "    cos_list.append(float(_score))"
   ]
  },
  {
   "cell_type": "code",
   "execution_count": 5,
   "metadata": {},
   "outputs": [],
   "source": [
    "#topk\n",
    "# 获取下标， 输出top 2下标\n",
    "fnumb = heapq.nlargest(2, range(len(cos_list)), cos_list.__getitem__)\n",
    "\n",
    "# 获取数值， 输出top 2 得分\n",
    "fscore = heapq.nlargest(2,cos_list)\n",
    "\n",
    "# coner case 1: 最高分不匹配问题,阈值0.5\n",
    "if max(fscore) < 0.5:\n",
    "    content = ''\n",
    "    \n",
    "elif (max(fscore) > 0.6) and (min(fscore) > 0.6):\n",
    "# coner case 2: 两条文档均匹配问题，阈值0.6\n",
    "    fnumb1 = fnumb[0]\n",
    "    fnumb2 = fnumb[1]\n",
    "\n",
    "    # topk只取1时，且不考虑similarity是否合理，读入文档\n",
    "    fn1 = fl[fnumb1]\n",
    "    fn2 = fl[fnumb2]\n",
    "    file_path1 = f'./Doclib/DocFiles/{fn1}'\n",
    "    file_path2 = f'./Doclib/DocFiles/{fn2}'\n",
    "    with open(file_path1, 'r',encoding='utf-8') as f:\n",
    "        content1 = f.read()\n",
    "    with open(file_path2, 'r',encoding='utf-8') as f:\n",
    "        content2 = f.read()\n",
    "    content = content1 + '\\n' + content2\n",
    "\n",
    "# 正常情况，只取top1\n",
    "else:\n",
    "    fn = fl[fnumb[0]]\n",
    "    file_path = f'./Doclib/DocFiles/{fn}'\n",
    "    with open(file_path, 'r',encoding='utf-8') as f:\n",
    "        content = f.read()"
   ]
  },
  {
   "cell_type": "code",
   "execution_count": 6,
   "metadata": {},
   "outputs": [
    {
     "data": {
      "text/plain": [
       "[0.7639769911766052, 0.641689121723175]"
      ]
     },
     "execution_count": 6,
     "metadata": {},
     "output_type": "execute_result"
    }
   ],
   "source": [
    "fscore"
   ]
  },
  {
   "cell_type": "code",
   "execution_count": 7,
   "metadata": {},
   "outputs": [
    {
     "data": {
      "text/plain": [
       "float"
      ]
     },
     "execution_count": 7,
     "metadata": {},
     "output_type": "execute_result"
    }
   ],
   "source": [
    "type(fscore[0])"
   ]
  },
  {
   "cell_type": "code",
   "execution_count": null,
   "metadata": {},
   "outputs": [],
   "source": []
  },
  {
   "cell_type": "code",
   "execution_count": 8,
   "metadata": {},
   "outputs": [
    {
     "name": "stderr",
     "output_type": "stream",
     "text": [
      "Explicitly passing a `revision` is encouraged when loading a model with custom code to ensure no malicious code has been contributed in a newer revision.\n",
      "Explicitly passing a `revision` is encouraged when loading a configuration with custom code to ensure no malicious code has been contributed in a newer revision.\n",
      "Explicitly passing a `revision` is encouraged when loading a model with custom code to ensure no malicious code has been contributed in a newer revision.\n"
     ]
    },
    {
     "data": {
      "application/vnd.jupyter.widget-view+json": {
       "model_id": "b9a4fc098b2545538e531d205875488f",
       "version_major": 2,
       "version_minor": 0
      },
      "text/plain": [
       "Loading checkpoint shards:   0%|          | 0/8 [00:00<?, ?it/s]"
      ]
     },
     "metadata": {},
     "output_type": "display_data"
    },
    {
     "name": "stderr",
     "output_type": "stream",
     "text": [
      "The dtype of attention mask (torch.int64) is not bool\n"
     ]
    },
    {
     "name": "stdout",
     "output_type": "stream",
     "text": [
      "云空间提供多种登录方式：\n",
      "1.账号+密码登录：输入账号(手机号码/邮箱账号)、密码，勾选同意《隐私政策》点击登录，即可登录云空间。\n",
      "密码可根据系统提示进行创建。\n",
      "2.账号+验证码登录：输入您账号绑定的手机号码或邮箱，点击“获取验证码”，图形验证码后手机或邮箱将收到 6 位数的验证码(5 分钟内有效)，填写验证码，点击登录，即可登录云空间。\n",
      "3.扫码登录：打开手机端云空间app，进入工作台，右上角点击“扫一扫”, 扫描PC/web端的二维码，即可登录云空间。\n",
      "产品订购成功后，系统会向订购时登记的邮箱内发送云空间订购成功的通知。企业管理员首次使用可通过云空间官网  https://www.ecpan.cn/   在登录页面 “手机号/邮箱号”一栏输入订购时预留的邮箱，点击 【获取验证码】，在邮箱内查看验证码并输入，点击【登录】后，即可进入首页。企业管理员可通过Web端右上角的【管理平台】进入管理平台，在管理平台【通讯录】模块编辑企业部门和人员信息。人员添加完成后，企业成员即可使用云空间。\n"
     ]
    }
   ],
   "source": [
    "# GPU 1\n",
    "# Prompt\n",
    "from transformers import AutoTokenizer, AutoModel\n",
    "tokenizer = AutoTokenizer.from_pretrained(\"./GLM6B_model/\", trust_remote_code=True)\n",
    "model = AutoModel.from_pretrained(\"./GLM6B_model/\", trust_remote_code=True).half().cuda()\n",
    "model = model.eval()\n",
    "\n",
    "prompt_template = f\"\"\"用户不知道文档资料，将文档资料的详细内容转述给用户，以此回答用户问题。\n",
    "    回答内容不允许超出文档资料内容范围。如果用户的问题与文档资料不相关，请回答“抱歉，我无法回答您的问题。”。另外，答案请使用中文。\n",
    "    文档资料:\n",
    "    {content}\n",
    "    用户问题:\n",
    "    {question}\"\"\"\n",
    "\n",
    "response, history = model.chat(tokenizer, prompt_template, history=[])\n",
    "print(response)"
   ]
  },
  {
   "cell_type": "code",
   "execution_count": null,
   "metadata": {},
   "outputs": [],
   "source": []
  },
  {
   "cell_type": "code",
   "execution_count": null,
   "metadata": {},
   "outputs": [],
   "source": []
  },
  {
   "cell_type": "code",
   "execution_count": 7,
   "metadata": {},
   "outputs": [],
   "source": [
    "# 待解决的问题\n",
    "# 1.GPU显存查询\n",
    "# 2.GPU分配\n",
    "# 3.GRPC\n",
    "# 4.UI界面"
   ]
  },
  {
   "cell_type": "code",
   "execution_count": null,
   "metadata": {},
   "outputs": [],
   "source": []
  }
 ],
 "metadata": {
  "kernelspec": {
   "display_name": "Caffe",
   "language": "python",
   "name": "caffe"
  },
  "language_info": {
   "codemirror_mode": {
    "name": "ipython",
    "version": 3
   },
   "file_extension": ".py",
   "mimetype": "text/x-python",
   "name": "python",
   "nbconvert_exporter": "python",
   "pygments_lexer": "ipython3",
   "version": "3.6.9"
  }
 },
 "nbformat": 4,
 "nbformat_minor": 4
}
